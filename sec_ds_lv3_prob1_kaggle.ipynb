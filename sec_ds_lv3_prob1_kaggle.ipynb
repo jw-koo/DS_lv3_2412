{
 "cells": [
  {
   "cell_type": "markdown",
   "id": "765c0422",
   "metadata": {},
   "source": [
    "# 문제 6\n",
    "\n",
    "[Kaggle 형] train_prob.csv로 failure 예측하는 모델을 만들고, \n",
    "\n",
    "test_prob.csv에 대한 failure가 1일 확률 예측하여 다음과 같은 형식의 answer6.csv를 만들어라. \n",
    "\n",
    "측정 지표는 AUC(area under of ROC curve)이다. id 는 테스트 케이스의 id 이고, failure에는 failure가 1이 될 확률이다.\n",
    "\n",
    "id,failure\n",
    "\n",
    "16115, 0.1\n",
    "\n",
    "16116, 0.2\n",
    "\n",
    "\n",
    "**강사: 멀티캠퍼스 강선구(sunku0316.kang@multicampus.com, sun9sun9@gmail.com)**"
   ]
  },
  {
   "cell_type": "code",
   "execution_count": 1,
   "id": "bcfd49c6",
   "metadata": {},
   "outputs": [
    {
     "name": "stdout",
     "output_type": "stream",
     "text": [
      "3.7.4 (tags/v3.7.4:e09359112e, Jul  8 2019, 20:34:20) [MSC v.1916 64 bit (AMD64)]\n",
      "pandas 0.25.1\n",
      "numpy 1.18.5\n",
      "sklearn 0.21.3\n",
      "scipy 1.5.2\n",
      "mlxtend 0.15.0.0\n",
      "statsmodels 0.11.1\n",
      "xgboost 0.80\n"
     ]
    }
   ],
   "source": [
    "# 실행 환경 확인\n",
    "\n",
    "import pandas as pd\n",
    "import numpy as np\n",
    "import sklearn\n",
    "import scipy\n",
    "import statsmodels\n",
    "import mlxtend\n",
    "import sys\n",
    "import xgboost as xgb\n",
    "\n",
    "print(sys.version)\n",
    "for i in [pd, np, sklearn, scipy, mlxtend, statsmodels, xgb]:\n",
    "    print(i.__name__, i.__version__)"
   ]
  },
  {
   "cell_type": "code",
   "execution_count": 2,
   "id": "27806559",
   "metadata": {},
   "outputs": [],
   "source": [
    "# 시각화 모듈 설정\n",
    "# 참고용 차트를 출력하기 위함\n",
    "\n",
    "import matplotlib.pyplot as plt\n",
    "import seaborn as sns\n",
    "\n",
    "import matplotlib as mpl\n",
    "import matplotlib.font_manager as fm\n",
    "plt.rc('font', family='Malgun Gothic')\n",
    "mpl.rcParams['axes.unicode_minus'] = False"
   ]
  },
  {
   "cell_type": "code",
   "execution_count": 3,
   "id": "5de490c6",
   "metadata": {},
   "outputs": [],
   "source": [
    "df_train = pd.read_csv('train_prob.csv', index_col = ['id'])\n",
    "df_test = pd.read_csv('test_prob.csv', index_col = ['id'])\n",
    "df_ans = pd.read_csv('test_prob_ans.csv', index_col = ['id'])\n",
    "s_ans = df_ans['failure']"
   ]
  },
  {
   "cell_type": "code",
   "execution_count": 4,
   "id": "7103a6d9",
   "metadata": {},
   "outputs": [],
   "source": [
    "df_train[['na_1', 'na_2']]  = df_train[['measurement_3', 'measurement_5']].isna()\n",
    "df_test[['na_1', 'na_2']]  = df_test[['measurement_3', 'measurement_5']].isna()"
   ]
  },
  {
   "cell_type": "code",
   "execution_count": 5,
   "id": "24241b0b",
   "metadata": {},
   "outputs": [],
   "source": [
    "# 방법 2 : train / test를 통합하여 처리해봅니다.\n",
    "\n",
    "from sklearn.experimental import enable_iterative_imputer# 구문을 사용하여 실험 단계인 모듈을 활성화하고, \n",
    "from sklearn.impute import IterativeImputer\n",
    "from sklearn.linear_model import LinearRegression\n",
    "from sklearn.metrics import r2_score\n",
    "\n",
    "X_imp = ['measurement_{}'.format(i) for i in range(3, 10)] + ['measurement_17']\n",
    "# train에 등장하지 않은 수준이 있습니다, test를 포함하여 결측처리 모델을 만듭니다.\n",
    "s_imp = pd.concat([\n",
    "        df_train[X_imp + ['product_code']],\n",
    "        df_test[X_imp + ['product_code']]\n",
    "], axis=0).groupby('product_code')\\\n",
    ".apply(\n",
    "    lambda x: IterativeImputer(estimator=LinearRegression(),random_state=123).fit(x[X_imp])\n",
    ")\n",
    "# train에 적용합니다.\n",
    "df_train[X_imp] = df_train[X_imp + ['product_code']]\\\n",
    "            .groupby('product_code')\\\n",
    "            .apply(\n",
    "                lambda x: pd.DataFrame(s_imp.loc[x.name].transform(x[X_imp]), index=x.index, columns=X_imp)\n",
    "            )\n",
    "# test에 적용합니다.\n",
    "df_test[X_imp] = df_test[X_imp + ['product_code']]\\\n",
    "            .groupby('product_code')\\\n",
    "            .apply(\n",
    "                lambda x: pd.DataFrame(s_imp.loc[x.name].transform(x[X_imp]), index=x.index, columns=X_imp)\n",
    "            )\n",
    "X_mean = ['measurement_{}'.format(i) for i in range(10, 17)]\n",
    "# train에 등장하지 않은 범주를 처리하기 위해 합치니다.\n",
    "df_mean = pd.concat([\n",
    "            df_train[['product_code'] + X_mean],\n",
    "            df_test[['product_code'] + X_mean]\n",
    "        ]).groupby('product_code')[X_mean].agg('mean')\n",
    "\n",
    "df_train[X_mean] = df_train.groupby('product_code')[X_mean]\\\n",
    "            .apply(lambda x: pd.DataFrame(x.fillna(df_mean.loc[x.name]), index=x.index, columns=x.columns))\n",
    "df_test[X_mean] = df_test.groupby('product_code')[X_mean]\\\n",
    "            .apply(lambda x: pd.DataFrame(x.fillna(df_mean.loc[x.name]), index=x.index, columns=x.columns))"
   ]
  },
  {
   "cell_type": "code",
   "execution_count": 6,
   "id": "bd2a9f7a",
   "metadata": {},
   "outputs": [],
   "source": [
    "# test가 train에 등장하지 않은 product_code로 구성됨을 고려하면, 모델의 동작 환경은 \n",
    "# 이미 테스트 케이스가 만들어진 상황에서 동작함을 생각해볼수가 있습니다.\n",
    "# 이미 테스트 케이스가 있다는 상황을 가정하면 train / test에 있는 것까지 포함하여 처리과정을 구상할 수 있습니다.\n",
    "m = pd.concat([\n",
    "    df_train['loading'], df_test['loading']\n",
    "], axis=0).mean()\n",
    "\n",
    "df_train['loading'] = df_train['loading'].fillna(m)\n",
    "df_test['loading'] = df_test['loading'].fillna(m)\n",
    "\n",
    "df_train['loading_log'] = np.log(df_train['loading'])\n",
    "df_test['loading_log'] = np.log(df_test['loading'])"
   ]
  },
  {
   "cell_type": "code",
   "execution_count": 7,
   "id": "5a1f5b0e",
   "metadata": {},
   "outputs": [
    {
     "data": {
      "text/plain": [
       "(0, 0)"
      ]
     },
     "execution_count": 7,
     "metadata": {},
     "output_type": "execute_result"
    }
   ],
   "source": [
    "X_all = df_test.columns.tolist()\n",
    "np.array(X_all)\n",
    "df_train.isna().sum().sum(), df_test.isna().sum().sum()"
   ]
  },
  {
   "cell_type": "markdown",
   "id": "9ac94e1e",
   "metadata": {},
   "source": [
    "- 문제 1: na_1, na_2 \n",
    "\n",
    "- 문제 2: np.log('loading'), attribute_0, attribute_1: 도움이 안됩니다.\n",
    "\n",
    "- 문제 3: LR + \\['loading','measurement_1', 'measurement_4', 'measurement_14', 'measurement_17', 'na_1'\\], (0.5838326230092876, 0.5936682060775388)\n",
    "\n",
    "- 문제 4: LDA: 1. transform, 2. predict / LR + pca measurement_0~17, n_components = 7\n",
    "\n",
    "- 문제 5: RF: ({'n_estimators': 15, 'max_depth': 7, 'min_samples_split': 512}, 0.5745226991354744) "
   ]
  },
  {
   "cell_type": "code",
   "execution_count": 8,
   "id": "5c441388",
   "metadata": {},
   "outputs": [
    {
     "data": {
      "text/plain": [
       "C    5765\n",
       "E    5343\n",
       "B    5250\n",
       "A    5100\n",
       "Name: product_code, dtype: int64"
      ]
     },
     "execution_count": 8,
     "metadata": {},
     "output_type": "execute_result"
    }
   ],
   "source": [
    "df_train['product_code'].value_counts()"
   ]
  },
  {
   "cell_type": "code",
   "execution_count": 9,
   "id": "4ebff4d7",
   "metadata": {},
   "outputs": [
    {
     "data": {
      "text/plain": [
       "D    5112\n",
       "Name: product_code, dtype: int64"
      ]
     },
     "execution_count": 9,
     "metadata": {},
     "output_type": "execute_result"
    }
   ],
   "source": [
    "df_test['product_code'].value_counts()"
   ]
  },
  {
   "cell_type": "code",
   "execution_count": 10,
   "id": "88892615",
   "metadata": {},
   "outputs": [
    {
     "data": {
      "text/plain": [
       "array(['product_code', 'loading', 'attribute_0', 'attribute_1',\n",
       "       'attribute_2', 'attribute_3', 'measurement_0', 'measurement_1',\n",
       "       'measurement_2', 'measurement_3', 'measurement_4', 'measurement_5',\n",
       "       'measurement_6', 'measurement_7', 'measurement_8', 'measurement_9',\n",
       "       'measurement_10', 'measurement_11', 'measurement_12',\n",
       "       'measurement_13', 'measurement_14', 'measurement_15',\n",
       "       'measurement_16', 'measurement_17', 'na_1', 'na_2', 'loading_log'],\n",
       "      dtype='<U14')"
      ]
     },
     "execution_count": 10,
     "metadata": {},
     "output_type": "execute_result"
    }
   ],
   "source": [
    "X_all = df_test.columns.tolist()\n",
    "np.array(X_all)"
   ]
  },
  {
   "cell_type": "code",
   "execution_count": 11,
   "id": "f673d617",
   "metadata": {},
   "outputs": [
    {
     "name": "stdout",
     "output_type": "stream",
     "text": [
      "['A' 'B' 'E'] ['C']\n",
      "['A' 'B' 'C'] ['E']\n",
      "['A' 'C' 'E'] ['B']\n",
      "['B' 'C' 'E'] ['A']\n"
     ]
    }
   ],
   "source": [
    "from sklearn.model_selection import GroupKFold\n",
    "gkf = GroupKFold(4)\n",
    "for train_idx, valid_idx in gkf.split(df_train[X_all], df_train['failure'], groups=df_train['product_code']):\n",
    "    print(\n",
    "        df_train.iloc[train_idx]['product_code'].unique(), \n",
    "        df_train.iloc[valid_idx]['product_code'].unique()\n",
    "    )"
   ]
  },
  {
   "cell_type": "code",
   "execution_count": 12,
   "id": "74a1306f",
   "metadata": {},
   "outputs": [
    {
     "data": {
      "text/plain": [
       "{'fit_time': array([0.02490568, 0.01666737, 0.01682687, 0.02120805]),\n",
       " 'score_time': array([0.00408864, 0.00457239, 0.00423026, 0.00372148]),\n",
       " 'test_score': array([0.58821746, 0.58491734, 0.58894014, 0.59540058]),\n",
       " 'train_score': array([0.59262252, 0.59350804, 0.59192438, 0.58956303])}"
      ]
     },
     "execution_count": 12,
     "metadata": {},
     "output_type": "execute_result"
    }
   ],
   "source": [
    "from sklearn.model_selection import cross_validate\n",
    "from sklearn.linear_model import LogisticRegression\n",
    "from sklearn.compose import ColumnTransformer\n",
    "from sklearn.pipeline import make_pipeline\n",
    "from sklearn.preprocessing import StandardScaler\n",
    "\n",
    "# LR + ['loading','measurement_1', 'measurement_4', 'measurement_14', 'measurement_17', 'na_1']\n",
    "gkf = GroupKFold(4)\n",
    "ct = ColumnTransformer([\n",
    "    ('std', StandardScaler(), ['loading','measurement_1', 'measurement_4', 'measurement_14', 'measurement_17']),\n",
    "    ('pt', 'passthrough', ['na_1'])\n",
    "])\n",
    "clf_lr = make_pipeline(ct, LogisticRegression(solver = 'lbfgs'))\n",
    "scores = cross_validate(\n",
    "    clf_lr, df_train[X_all], df_train['failure'], groups = df_train['product_code'],\n",
    "    cv = gkf, scoring='roc_auc', return_train_score=True\n",
    ")\n",
    "scores"
   ]
  },
  {
   "cell_type": "markdown",
   "id": "97a9c227",
   "metadata": {},
   "source": [
    "# Kaggle형 풀이 단계\n",
    "\n",
    "Step 0: Kaggle용 데이터셋을 만든다.\n",
    "\n",
    "Step 1: 검증 방법을 정하고, 검증 루틴을 만듭니다.\n",
    "\n",
    "Step 2: Baseline 모델을 만듭니다\n",
    "\n",
    "Step 3: 모델 선택 루틴을 만듭니다.\n",
    "\n",
    "|id|failure|\n",
    "|----|----|\n",
    "|16115| 0.1|\n",
    "|16116| 0.2|\n",
    "\n",
    "....\t\n",
    "\n",
    "Step 4: 모델 개선 작업을 합니다."
   ]
  },
  {
   "cell_type": "code",
   "execution_count": null,
   "id": "1fbf25b8",
   "metadata": {},
   "outputs": [],
   "source": []
  }
 ],
 "metadata": {
  "kernelspec": {
   "display_name": "Python 3 (ipykernel)",
   "language": "python",
   "name": "python3"
  },
  "language_info": {
   "codemirror_mode": {
    "name": "ipython",
    "version": 3
   },
   "file_extension": ".py",
   "mimetype": "text/x-python",
   "name": "python",
   "nbconvert_exporter": "python",
   "pygments_lexer": "ipython3",
   "version": "3.7.4"
  }
 },
 "nbformat": 4,
 "nbformat_minor": 5
}
